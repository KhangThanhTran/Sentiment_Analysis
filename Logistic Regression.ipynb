{
 "cells": [
  {
   "cell_type": "code",
   "execution_count": 1,
   "id": "4456dabb",
   "metadata": {},
   "outputs": [],
   "source": [
    "import findspark\n",
    "findspark.init()\n",
    "import pyspark\n",
    "from pyspark.sql import SparkSession\n",
    "spark = SparkSession.builder.appName(\"ReadAllFilesInFolder\").getOrCreate()\n",
    "from pyspark.sql import SparkSession\n",
    "from pyspark.sql.functions import lit\n",
    "# Thêm các thư viện Spark cần thiết\n",
    "\n",
    "spark = SparkSession.builder.getOrCreate()"
   ]
  },
  {
   "cell_type": "code",
   "execution_count": 2,
   "id": "1537bb25",
   "metadata": {},
   "outputs": [
    {
     "name": "stdout",
     "output_type": "stream",
     "text": [
      "+--------------------+-----+\n",
      "|               value|label|\n",
      "+--------------------+-----+\n",
      "|ESCAPE_GAME : CÁI...|  neg|\n",
      "|Ít khi mình phàn_...|  neg|\n",
      "|Vừa đi ăn buffet ...|  neg|\n",
      "|Thứ nhất , về mặt...|  neg|\n",
      "|Thứ_hai , về mặt ...|  neg|\n",
      "|Thứ_ba , về chất_...|  neg|\n",
      "|Tương_ớt , tương ...|  neg|\n",
      "|Lúc mình về , thấ...|  neg|\n",
      "|Hôm_nay đi ăn bò ...|  neg|\n",
      "|Chỉ có chuyện này...|  neg|\n",
      "|Rồi đang tung_tẩy...|  neg|\n",
      "|Rồi bạn ý chạy ra...|  neg|\n",
      "|Đang ' nói_chuyện...|  neg|\n",
      "|Mình cũng có nói ...|  neg|\n",
      "|Rất xin_lỗi anh s...|  neg|\n",
      "|Nếu em không nhầm...|  neg|\n",
      "|Mình mà là con_tr...|  neg|\n",
      "|Mình thật_sự muốn...|  neg|\n",
      "|Số_là tôi và các ...|  neg|\n",
      "|Tất_nhiên hội chú...|  neg|\n",
      "+--------------------+-----+\n",
      "only showing top 20 rows\n",
      "\n"
     ]
    }
   ],
   "source": [
    "data_neg = spark.read.text(\"D:/BinhLuan/data_train/train/neg\").limit(5000)\n",
    "data_pos = spark.read.text(\"D:/BinhLuan/data_train/train/pos\").limit(5000)\n",
    "\n",
    "data_neg_bage = data_neg.withColumn(\"label\", lit(\"neg\"))\n",
    "data_pos_bage = data_pos.withColumn(\"label\", lit(\"pos\"))\n",
    "\n",
    "data = data_neg_bage.union(data_pos_bage)\n",
    "\n",
    "data.show()"
   ]
  },
  {
   "cell_type": "code",
   "execution_count": 3,
   "id": "7ac5c259",
   "metadata": {},
   "outputs": [
    {
     "data": {
      "text/plain": [
       "DataFrame[summary: string, value: string, label: string]"
      ]
     },
     "execution_count": 3,
     "metadata": {},
     "output_type": "execute_result"
    }
   ],
   "source": [
    "data.describe()"
   ]
  },
  {
   "cell_type": "code",
   "execution_count": 4,
   "id": "50fc1ebf",
   "metadata": {},
   "outputs": [
    {
     "name": "stdout",
     "output_type": "stream",
     "text": [
      "+-------+--------------------+-----+\n",
      "|summary|               value|label|\n",
      "+-------+--------------------+-----+\n",
      "|  count|               10000|10000|\n",
      "|   mean|                null| null|\n",
      "| stddev|                null| null|\n",
      "|    min|! ! ! Sẽ quay lại...|  neg|\n",
      "|    max|😑 điểm trừ là cơ...|  pos|\n",
      "+-------+--------------------+-----+\n",
      "\n"
     ]
    }
   ],
   "source": [
    "data.describe().show()"
   ]
  },
  {
   "cell_type": "code",
   "execution_count": 5,
   "id": "9ec6ca6c",
   "metadata": {},
   "outputs": [
    {
     "name": "stdout",
     "output_type": "stream",
     "text": [
      "+--------------------+-----+\n",
      "|               value|label|\n",
      "+--------------------+-----+\n",
      "|escape_game : cái...|  neg|\n",
      "|ít khi mình phàn_...|  neg|\n",
      "|vừa đi ăn buffet ...|  neg|\n",
      "|thứ nhất , về mặt...|  neg|\n",
      "|thứ_hai , về mặt ...|  neg|\n",
      "|thứ_ba , về chất_...|  neg|\n",
      "|tương_ớt , tương ...|  neg|\n",
      "|lúc mình về , thấ...|  neg|\n",
      "|hôm_nay đi ăn bò ...|  neg|\n",
      "|chỉ có chuyện này...|  neg|\n",
      "|rồi đang tung_tẩy...|  neg|\n",
      "|rồi bạn ý chạy ra...|  neg|\n",
      "|đang ' nói_chuyện...|  neg|\n",
      "|mình cũng có nói ...|  neg|\n",
      "|rất xin_lỗi anh s...|  neg|\n",
      "|nếu em không nhầm...|  neg|\n",
      "|mình mà là con_tr...|  neg|\n",
      "|mình thật_sự muốn...|  neg|\n",
      "|số_là tôi và các ...|  neg|\n",
      "|tất_nhiên hội chú...|  neg|\n",
      "+--------------------+-----+\n",
      "only showing top 20 rows\n",
      "\n"
     ]
    }
   ],
   "source": [
    "from pyspark.sql.functions import lower\n",
    "\n",
    "# Chuyển đổi cột \"text\" thành chữ thường\n",
    "data = data.select(lower(data.value).alias(\"value\"),data.label)\n",
    "data.show()"
   ]
  },
  {
   "cell_type": "code",
   "execution_count": 6,
   "id": "1b6b972b",
   "metadata": {},
   "outputs": [
    {
     "name": "stdout",
     "output_type": "stream",
     "text": [
      "+--------------------+-----+\n",
      "|               value|label|\n",
      "+--------------------+-----+\n",
      "|escape_game  cái_...|  neg|\n",
      "|ít khi mình phàn_...|  neg|\n",
      "|vừa đi ăn buffet ...|  neg|\n",
      "|thứ nhất  về mặt ...|  neg|\n",
      "|thứ_hai  về mặt p...|  neg|\n",
      "|thứ_ba  về chất_l...|  neg|\n",
      "|tương_ớt  tương c...|  neg|\n",
      "|lúc mình về  thấy...|  neg|\n",
      "|hôm_nay đi ăn bò ...|  neg|\n",
      "|chỉ có chuyện này...|  neg|\n",
      "|rồi đang tung_tẩy...|  neg|\n",
      "|rồi bạn ý chạy ra...|  neg|\n",
      "|đang  nói_chuyện ...|  neg|\n",
      "|mình cũng có nói ...|  neg|\n",
      "|rất xin_lỗi anh s...|  neg|\n",
      "|nếu em không nhầm...|  neg|\n",
      "|mình mà là con_tr...|  neg|\n",
      "|mình thật_sự muốn...|  neg|\n",
      "|số_là tôi và các ...|  neg|\n",
      "|tất_nhiên hội chú...|  neg|\n",
      "+--------------------+-----+\n",
      "only showing top 20 rows\n",
      "\n"
     ]
    }
   ],
   "source": [
    "import re\n",
    "from pyspark.sql.functions import udf\n",
    "from pyspark.sql.types import StringType\n",
    "\n",
    "def remove_special_chars(text):\n",
    "    pattern =  r\"[^a-zA-Z0-9_àáảãạăắằẵặẳâấầẩẫậđèéẻẽẹêếềểễệìíỉĩịòóỏõọôốồổỗộơớờởỡợùúủũụưứừửữựỳýỷỹỵ\\sđĐ\\s]+\"\n",
    "    clean_text = re.sub(pattern, \"\", text)\n",
    "    return clean_text\n",
    "\n",
    "remove_special_chars_udf = udf(remove_special_chars, StringType())\n",
    "\n",
    "data = data.withColumn(\"value\", remove_special_chars_udf(\"value\"))\n",
    "data.show()"
   ]
  },
  {
   "cell_type": "code",
   "execution_count": 7,
   "id": "abc04100",
   "metadata": {},
   "outputs": [
    {
     "name": "stdout",
     "output_type": "stream",
     "text": [
      "+--------------------+-----+\n",
      "|               value|label|\n",
      "+--------------------+-----+\n",
      "|escape_game  cái_...|  neg|\n",
      "|ít khi mình phàn_...|  neg|\n",
      "|vừa đi ăn buffet ...|  neg|\n",
      "|thứ nhất  về mặt ...|  neg|\n",
      "|thứ_hai  về mặt p...|  neg|\n",
      "|thứ_ba  về chất_l...|  neg|\n",
      "|tương_ớt  tương c...|  neg|\n",
      "|lúc mình về  thấy...|  neg|\n",
      "|hôm_nay đi ăn bò ...|  neg|\n",
      "|chỉ có chuyện này...|  neg|\n",
      "|rồi đang tung_tẩy...|  neg|\n",
      "|rồi bạn ý chạy ra...|  neg|\n",
      "|đang  nói_chuyện ...|  neg|\n",
      "|mình cũng có nói ...|  neg|\n",
      "|rất xin_lỗi anh s...|  neg|\n",
      "|nếu em không nhầm...|  neg|\n",
      "|mình mà là con_tr...|  neg|\n",
      "|mình thật_sự muốn...|  neg|\n",
      "|số_là tôi và các ...|  neg|\n",
      "|tất_nhiên hội chú...|  neg|\n",
      "+--------------------+-----+\n",
      "only showing top 20 rows\n",
      "\n"
     ]
    }
   ],
   "source": [
    "from pyspark.sql.functions import trim\n",
    "\n",
    "# Xóa khoảng trắng dư thừa trong cột \"value\"\n",
    "data = data.withColumn(\"value\", trim(data[\"value\"]))\n",
    "\n",
    "# Loại bỏ các hàng rỗng\n",
    "data = data.na.drop()\n",
    "\n",
    "# In kết quả\n",
    "data.show()"
   ]
  },
  {
   "cell_type": "code",
   "execution_count": 8,
   "id": "fb57b766",
   "metadata": {
    "scrolled": true
   },
   "outputs": [
    {
     "name": "stdout",
     "output_type": "stream",
     "text": [
      "+--------------------+-----+--------------------+\n",
      "|               value|label|               words|\n",
      "+--------------------+-----+--------------------+\n",
      "|escape_game  cái_...|  neg|[escape_game, , c...|\n",
      "|ít khi mình phàn_...|  neg|[ít, khi, mình, p...|\n",
      "|vừa đi ăn buffet ...|  neg|[vừa, đi, ăn, buf...|\n",
      "|thứ nhất  về mặt ...|  neg|[thứ, nhất, , về,...|\n",
      "|thứ_hai  về mặt p...|  neg|[thứ_hai, , về, m...|\n",
      "|thứ_ba  về chất_l...|  neg|[thứ_ba, , về, ch...|\n",
      "|tương_ớt  tương c...|  neg|[tương_ớt, , tươn...|\n",
      "|lúc mình về  thấy...|  neg|[lúc, mình, về, ,...|\n",
      "|hôm_nay đi ăn bò ...|  neg|[hôm_nay, đi, ăn,...|\n",
      "|chỉ có chuyện này...|  neg|[chỉ, có, chuyện,...|\n",
      "|rồi đang tung_tẩy...|  neg|[rồi, đang, tung_...|\n",
      "|rồi bạn ý chạy ra...|  neg|[rồi, bạn, ý, chạ...|\n",
      "|đang  nói_chuyện ...|  neg|[đang, , nói_chuy...|\n",
      "|mình cũng có nói ...|  neg|[mình, cũng, có, ...|\n",
      "|rất xin_lỗi anh s...|  neg|[rất, xin_lỗi, an...|\n",
      "|nếu em không nhầm...|  neg|[nếu, em, không, ...|\n",
      "|mình mà là con_tr...|  neg|[mình, mà, là, co...|\n",
      "|mình thật_sự muốn...|  neg|[mình, thật_sự, m...|\n",
      "|số_là tôi và các ...|  neg|[số_là, tôi, và, ...|\n",
      "|tất_nhiên hội chú...|  neg|[tất_nhiên, hội, ...|\n",
      "+--------------------+-----+--------------------+\n",
      "only showing top 20 rows\n",
      "\n"
     ]
    }
   ],
   "source": [
    "from pyspark.ml.feature import Tokenizer, HashingTF, IDF\n",
    "\n",
    "#Tách câu thành các token (Tokenization) \n",
    "tokenizer = Tokenizer(inputCol=\"value\", outputCol=\"words\")\n",
    "df = tokenizer.transform(data)\n",
    "\n",
    "df.show()"
   ]
  },
  {
   "cell_type": "code",
   "execution_count": 9,
   "id": "27a6a0f7",
   "metadata": {},
   "outputs": [
    {
     "name": "stdout",
     "output_type": "stream",
     "text": [
      "+--------------------+-----+--------------------+\n",
      "|               value|label|              tokens|\n",
      "+--------------------+-----+--------------------+\n",
      "|escape_game  cái_...|  neg|[escape_game, cái...|\n",
      "|ít khi mình phàn_...|  neg|[phàn_nàn, chất_l...|\n",
      "|vừa đi ăn buffet ...|  neg|[đi, buffet, tối,...|\n",
      "|thứ nhất  về mặt ...|  neg|[mặt, không_gian,...|\n",
      "|thứ_hai  về mặt p...|  neg|[thứ_hai, mặt, ph...|\n",
      "|thứ_ba  về chất_l...|  neg|[thứ_ba, chất_lượ...|\n",
      "|tương_ớt  tương c...|  neg|[tương_ớt, tương,...|\n",
      "|lúc mình về  thấy...|  neg|[1, trễ, miss, th...|\n",
      "|hôm_nay đi ăn bò ...|  neg|[hôm_nay, đi, bò,...|\n",
      "|chỉ có chuyện này...|  neg|[chia_sẻ, nóng, t...|\n",
      "|rồi đang tung_tẩy...|  neg|[tung_tẩy, đi, ch...|\n",
      "|rồi bạn ý chạy ra...|  neg|[chạy, chỗ, ghi, ...|\n",
      "|đang  nói_chuyện ...|  neg|[nói_chuyện, nhân...|\n",
      "|mình cũng có nói ...|  neg|[kia, hoàn_toàn, ...|\n",
      "|rất xin_lỗi anh s...|  neg|[xin_lỗi, securit...|\n",
      "|nếu em không nhầm...|  neg|[nhầm, tuấn, nhân...|\n",
      "|mình mà là con_tr...|  neg|[con_trai, cục_tí...|\n",
      "|mình thật_sự muốn...|  neg|[thật_sự, chia, t...|\n",
      "|số_là tôi và các ...|  neg|[bạn_gái, nhà_hàn...|\n",
      "|tất_nhiên hội chú...|  neg|[tất_nhiên, hội, ...|\n",
      "+--------------------+-----+--------------------+\n",
      "only showing top 20 rows\n",
      "\n"
     ]
    }
   ],
   "source": [
    "from pyspark.ml.feature import StopWordsRemover\n",
    "from pyspark.sql.functions import udf\n",
    "from pyspark.sql.types import ArrayType, StringType\n",
    "\n",
    "#Loại bỏ Stop Word\n",
    "#Đọc file stop word tiếng việt có sẵn\n",
    "def read_stopwords(stopword_file):\n",
    "    with open(stopword_file, 'r', encoding='utf-8') as f:\n",
    "        stopwords = [line.strip() for line in f]\n",
    "    return stopwords\n",
    "\n",
    "# loại bỏ stop word dựa trên dữ liệu stop word tiếng việt ở trên\n",
    "def remove_stopwords_vn(words, stopwords):\n",
    "    from underthesea import word_tokenize\n",
    "    tokens = word_tokenize(words)\n",
    "    return [w for w in tokens if w not in stopwords]\n",
    "\n",
    "# Load stop word file\n",
    "stopword_file = 'vietnamese-stopwords.txt'\n",
    "stopwords = read_stopwords(stopword_file)\n",
    "\n",
    "# Define UDF\n",
    "remove_stopwords_udf = udf(lambda x: remove_stopwords_vn(x, stopwords), ArrayType(StringType()))\n",
    "\n",
    "#Xóa stop word\n",
    "remover = StopWordsRemover(inputCol='words', outputCol='filtered_tokens', stopWords=stopwords)\n",
    "df1 = remover.transform(df).drop('words')\n",
    "df2 = df1.select('value', 'label', remove_stopwords_udf('value').alias('tokens'))\n",
    "df2.show()"
   ]
  },
  {
   "cell_type": "code",
   "execution_count": 10,
   "id": "fe627217",
   "metadata": {},
   "outputs": [
    {
     "name": "stdout",
     "output_type": "stream",
     "text": [
      "+--------------------+-----+--------------------+-------------+\n",
      "|               value|label|              tokens|label_indexer|\n",
      "+--------------------+-----+--------------------+-------------+\n",
      "|escape_game  cái_...|  neg|[escape_game, cái...|          0.0|\n",
      "|ít khi mình phàn_...|  neg|[phàn_nàn, chất_l...|          0.0|\n",
      "|vừa đi ăn buffet ...|  neg|[đi, buffet, tối,...|          0.0|\n",
      "|thứ nhất  về mặt ...|  neg|[mặt, không_gian,...|          0.0|\n",
      "|thứ_hai  về mặt p...|  neg|[thứ_hai, mặt, ph...|          0.0|\n",
      "|thứ_ba  về chất_l...|  neg|[thứ_ba, chất_lượ...|          0.0|\n",
      "|tương_ớt  tương c...|  neg|[tương_ớt, tương,...|          0.0|\n",
      "|lúc mình về  thấy...|  neg|[1, trễ, miss, th...|          0.0|\n",
      "|hôm_nay đi ăn bò ...|  neg|[hôm_nay, đi, bò,...|          0.0|\n",
      "|chỉ có chuyện này...|  neg|[chia_sẻ, nóng, t...|          0.0|\n",
      "|rồi đang tung_tẩy...|  neg|[tung_tẩy, đi, ch...|          0.0|\n",
      "|rồi bạn ý chạy ra...|  neg|[chạy, chỗ, ghi, ...|          0.0|\n",
      "|đang  nói_chuyện ...|  neg|[nói_chuyện, nhân...|          0.0|\n",
      "|mình cũng có nói ...|  neg|[kia, hoàn_toàn, ...|          0.0|\n",
      "|rất xin_lỗi anh s...|  neg|[xin_lỗi, securit...|          0.0|\n",
      "|nếu em không nhầm...|  neg|[nhầm, tuấn, nhân...|          0.0|\n",
      "|mình mà là con_tr...|  neg|[con_trai, cục_tí...|          0.0|\n",
      "|mình thật_sự muốn...|  neg|[thật_sự, chia, t...|          0.0|\n",
      "|số_là tôi và các ...|  neg|[bạn_gái, nhà_hàn...|          0.0|\n",
      "|tất_nhiên hội chú...|  neg|[tất_nhiên, hội, ...|          0.0|\n",
      "+--------------------+-----+--------------------+-------------+\n",
      "only showing top 20 rows\n",
      "\n"
     ]
    }
   ],
   "source": [
    "from pyspark.ml.feature import StringIndexer,VectorIndexer\n",
    "\n",
    "#Gán nhãn cho label\n",
    "label_indexer = StringIndexer(inputCol=\"label\", outputCol=\"label_indexer\").fit(df2)\n",
    "data_transformed = label_indexer.transform(df2)\n",
    "data_transformed.show()"
   ]
  },
  {
   "cell_type": "code",
   "execution_count": 11,
   "id": "861f2ae3",
   "metadata": {},
   "outputs": [
    {
     "name": "stdout",
     "output_type": "stream",
     "text": [
      "+--------------------+-----+--------------------+-------------+--------------------+\n",
      "|               value|label|              tokens|label_indexer|        HTF_features|\n",
      "+--------------------+-----+--------------------+-------------+--------------------+\n",
      "|escape_game  cái_...|  neg|[escape_game, cái...|          0.0|(262144,[66983,24...|\n",
      "|ít khi mình phàn_...|  neg|[phàn_nàn, chất_l...|          0.0|(262144,[158,221,...|\n",
      "|vừa đi ăn buffet ...|  neg|[đi, buffet, tối,...|          0.0|(262144,[8195,101...|\n",
      "|thứ nhất  về mặt ...|  neg|[mặt, không_gian,...|          0.0|(262144,[14793,15...|\n",
      "|thứ_hai  về mặt p...|  neg|[thứ_hai, mặt, ph...|          0.0|(262144,[4686,750...|\n",
      "|thứ_ba  về chất_l...|  neg|[thứ_ba, chất_lượ...|          0.0|(262144,[402,8195...|\n",
      "|tương_ớt  tương c...|  neg|[tương_ớt, tương,...|          0.0|(262144,[1875,351...|\n",
      "|lúc mình về  thấy...|  neg|[1, trễ, miss, th...|          0.0|(262144,[68,11592...|\n",
      "|hôm_nay đi ăn bò ...|  neg|[hôm_nay, đi, bò,...|          0.0|(262144,[1084,235...|\n",
      "|chỉ có chuyện này...|  neg|[chia_sẻ, nóng, t...|          0.0|(262144,[725,1252...|\n",
      "|rồi đang tung_tẩy...|  neg|[tung_tẩy, đi, ch...|          0.0|(262144,[1479,125...|\n",
      "|rồi bạn ý chạy ra...|  neg|[chạy, chỗ, ghi, ...|          0.0|(262144,[1926,505...|\n",
      "|đang  nói_chuyện ...|  neg|[nói_chuyện, nhân...|          0.0|(262144,[5050,114...|\n",
      "|mình cũng có nói ...|  neg|[kia, hoàn_toàn, ...|          0.0|(262144,[46999,52...|\n",
      "|rất xin_lỗi anh s...|  neg|[xin_lỗi, securit...|          0.0|(262144,[10193,34...|\n",
      "|nếu em không nhầm...|  neg|[nhầm, tuấn, nhân...|          0.0|(262144,[33233,34...|\n",
      "|mình mà là con_tr...|  neg|[con_trai, cục_tí...|          0.0|(262144,[23556,56...|\n",
      "|mình thật_sự muốn...|  neg|[thật_sự, chia, t...|          0.0|(262144,[699,3821...|\n",
      "|số_là tôi và các ...|  neg|[bạn_gái, nhà_hàn...|          0.0|(262144,[2446,120...|\n",
      "|tất_nhiên hội chú...|  neg|[tất_nhiên, hội, ...|          0.0|(262144,[5423,848...|\n",
      "+--------------------+-----+--------------------+-------------+--------------------+\n",
      "only showing top 20 rows\n",
      "\n"
     ]
    }
   ],
   "source": [
    "hashing_tf = HashingTF(inputCol=\"tokens\", outputCol=\"HTF_features\")\n",
    "\n",
    "#tính TF \n",
    "df3 = hashing_tf.transform(data_transformed)\n",
    "df3.show()"
   ]
  },
  {
   "cell_type": "code",
   "execution_count": 12,
   "id": "4164be21",
   "metadata": {},
   "outputs": [
    {
     "name": "stdout",
     "output_type": "stream",
     "text": [
      "+--------------------+-----+--------------------+-------------+--------------------+--------------------+\n",
      "|               value|label|              tokens|label_indexer|        HTF_features|            features|\n",
      "+--------------------+-----+--------------------+-------------+--------------------+--------------------+\n",
      "|escape_game  cái_...|  neg|[escape_game, cái...|          0.0|(262144,[66983,24...|(262144,[66983,24...|\n",
      "|ít khi mình phàn_...|  neg|[phàn_nàn, chất_l...|          0.0|(262144,[158,221,...|(262144,[158,221,...|\n",
      "|vừa đi ăn buffet ...|  neg|[đi, buffet, tối,...|          0.0|(262144,[8195,101...|(262144,[8195,101...|\n",
      "|thứ nhất  về mặt ...|  neg|[mặt, không_gian,...|          0.0|(262144,[14793,15...|(262144,[14793,15...|\n",
      "|thứ_hai  về mặt p...|  neg|[thứ_hai, mặt, ph...|          0.0|(262144,[4686,750...|(262144,[4686,750...|\n",
      "|thứ_ba  về chất_l...|  neg|[thứ_ba, chất_lượ...|          0.0|(262144,[402,8195...|(262144,[402,8195...|\n",
      "|tương_ớt  tương c...|  neg|[tương_ớt, tương,...|          0.0|(262144,[1875,351...|(262144,[1875,351...|\n",
      "|lúc mình về  thấy...|  neg|[1, trễ, miss, th...|          0.0|(262144,[68,11592...|(262144,[68,11592...|\n",
      "|hôm_nay đi ăn bò ...|  neg|[hôm_nay, đi, bò,...|          0.0|(262144,[1084,235...|(262144,[1084,235...|\n",
      "|chỉ có chuyện này...|  neg|[chia_sẻ, nóng, t...|          0.0|(262144,[725,1252...|(262144,[725,1252...|\n",
      "|rồi đang tung_tẩy...|  neg|[tung_tẩy, đi, ch...|          0.0|(262144,[1479,125...|(262144,[1479,125...|\n",
      "|rồi bạn ý chạy ra...|  neg|[chạy, chỗ, ghi, ...|          0.0|(262144,[1926,505...|(262144,[1926,505...|\n",
      "|đang  nói_chuyện ...|  neg|[nói_chuyện, nhân...|          0.0|(262144,[5050,114...|(262144,[5050,114...|\n",
      "|mình cũng có nói ...|  neg|[kia, hoàn_toàn, ...|          0.0|(262144,[46999,52...|(262144,[46999,52...|\n",
      "|rất xin_lỗi anh s...|  neg|[xin_lỗi, securit...|          0.0|(262144,[10193,34...|(262144,[10193,34...|\n",
      "|nếu em không nhầm...|  neg|[nhầm, tuấn, nhân...|          0.0|(262144,[33233,34...|(262144,[33233,34...|\n",
      "|mình mà là con_tr...|  neg|[con_trai, cục_tí...|          0.0|(262144,[23556,56...|(262144,[23556,56...|\n",
      "|mình thật_sự muốn...|  neg|[thật_sự, chia, t...|          0.0|(262144,[699,3821...|(262144,[699,3821...|\n",
      "|số_là tôi và các ...|  neg|[bạn_gái, nhà_hàn...|          0.0|(262144,[2446,120...|(262144,[2446,120...|\n",
      "|tất_nhiên hội chú...|  neg|[tất_nhiên, hội, ...|          0.0|(262144,[5423,848...|(262144,[5423,848...|\n",
      "+--------------------+-----+--------------------+-------------+--------------------+--------------------+\n",
      "only showing top 20 rows\n",
      "\n"
     ]
    }
   ],
   "source": [
    "idf = IDF(inputCol=\"HTF_features\", outputCol=\"features\")\n",
    "\n",
    "#tính ITF \n",
    "idfModel = idf.fit(df3)\n",
    "                   \n",
    "df4 = idfModel.transform(df3)\n",
    "df4.show()"
   ]
  },
  {
   "cell_type": "code",
   "execution_count": 13,
   "id": "2f426d2d",
   "metadata": {},
   "outputs": [],
   "source": [
    "from pyspark.ml import Pipeline\n",
    "from pyspark.ml.classification import LogisticRegression\n",
    "\n",
    "lr = LogisticRegression(maxIter=10, regParam=0.01, featuresCol=\"features\", labelCol=\"label_indexer\", predictionCol=\"prediction\", probabilityCol=\"probability\", rawPredictionCol=\"rawPrediction\")\n",
    "\n",
    "# tạo pipeline để thực hiện các bước xử lý dữ liệu và huấn luyện mô hình\n",
    "pipeline = Pipeline(stages=[tokenizer, remover, hashing_tf, idf, lr])"
   ]
  },
  {
   "cell_type": "code",
   "execution_count": 14,
   "id": "f7a834f8",
   "metadata": {},
   "outputs": [],
   "source": [
    "#chia tập dữ liệu thành train, test theo tỷ lệ 70:30\n",
    "#(train_data, test_data) = data_transformed.randomSplit([0.7, 0.3], seed=12345)\n",
    "#chia tập dữ liệu thành train, test theo tỷ lệ 80:20\n",
    "(train_data, test_data) = data_transformed.randomSplit([0.8, 0.2], seed=12345)"
   ]
  },
  {
   "cell_type": "code",
   "execution_count": 15,
   "id": "f80ced15",
   "metadata": {},
   "outputs": [],
   "source": [
    "model = pipeline.fit(train_data)"
   ]
  },
  {
   "cell_type": "code",
   "execution_count": 16,
   "id": "87afcb77",
   "metadata": {},
   "outputs": [],
   "source": [
    "predictions = model.transform(test_data)"
   ]
  },
  {
   "cell_type": "code",
   "execution_count": 17,
   "id": "778d6024",
   "metadata": {},
   "outputs": [
    {
     "name": "stdout",
     "output_type": "stream",
     "text": [
      "Accuracy = 0.751246\n"
     ]
    }
   ],
   "source": [
    "from pyspark.ml.evaluation import MulticlassClassificationEvaluator\n",
    "\n",
    "#tính toán độ chính xác\n",
    "evaluator = MulticlassClassificationEvaluator(predictionCol=\"prediction\", labelCol=\"label_indexer\", metricName=\"accuracy\")\n",
    "accuracy = evaluator.evaluate(predictions)\n",
    "\n",
    "print(\"Accuracy = %g\" % (accuracy))"
   ]
  },
  {
   "cell_type": "code",
   "execution_count": 18,
   "id": "81ad8cbb",
   "metadata": {},
   "outputs": [
    {
     "name": "stdout",
     "output_type": "stream",
     "text": [
      "+-----+-------------+----------+\n",
      "|label|label_indexer|prediction|\n",
      "+-----+-------------+----------+\n",
      "|  pos|          1.0|       0.0|\n",
      "|  pos|          1.0|       1.0|\n",
      "|  pos|          1.0|       1.0|\n",
      "|  pos|          1.0|       1.0|\n",
      "|  pos|          1.0|       1.0|\n",
      "|  pos|          1.0|       1.0|\n",
      "|  pos|          1.0|       0.0|\n",
      "|  pos|          1.0|       1.0|\n",
      "|  pos|          1.0|       1.0|\n",
      "|  pos|          1.0|       1.0|\n",
      "|  pos|          1.0|       1.0|\n",
      "|  pos|          1.0|       1.0|\n",
      "|  pos|          1.0|       1.0|\n",
      "|  pos|          1.0|       1.0|\n",
      "|  pos|          1.0|       0.0|\n",
      "|  pos|          1.0|       1.0|\n",
      "|  pos|          1.0|       1.0|\n",
      "|  pos|          1.0|       1.0|\n",
      "|  pos|          1.0|       1.0|\n",
      "|  pos|          1.0|       1.0|\n",
      "+-----+-------------+----------+\n",
      "only showing top 20 rows\n",
      "\n"
     ]
    }
   ],
   "source": [
    "predictions.filter(predictions.label_indexer == 1.0).select('label', 'label_indexer', 'prediction').show()"
   ]
  },
  {
   "cell_type": "code",
   "execution_count": 19,
   "id": "fa921e72",
   "metadata": {},
   "outputs": [
    {
     "name": "stdout",
     "output_type": "stream",
     "text": [
      "+-----+-------------+----------+\n",
      "|label|label_indexer|prediction|\n",
      "+-----+-------------+----------+\n",
      "|  neg|          0.0|       0.0|\n",
      "|  neg|          0.0|       0.0|\n",
      "|  neg|          0.0|       0.0|\n",
      "|  neg|          0.0|       1.0|\n",
      "|  neg|          0.0|       0.0|\n",
      "|  neg|          0.0|       0.0|\n",
      "|  neg|          0.0|       0.0|\n",
      "|  neg|          0.0|       0.0|\n",
      "|  neg|          0.0|       0.0|\n",
      "|  neg|          0.0|       0.0|\n",
      "|  neg|          0.0|       0.0|\n",
      "|  neg|          0.0|       1.0|\n",
      "|  neg|          0.0|       0.0|\n",
      "|  neg|          0.0|       0.0|\n",
      "|  neg|          0.0|       0.0|\n",
      "|  neg|          0.0|       0.0|\n",
      "|  neg|          0.0|       1.0|\n",
      "|  neg|          0.0|       0.0|\n",
      "|  neg|          0.0|       0.0|\n",
      "|  neg|          0.0|       1.0|\n",
      "+-----+-------------+----------+\n",
      "only showing top 20 rows\n",
      "\n"
     ]
    }
   ],
   "source": [
    "predictions.filter(predictions.label_indexer == 0.0).select('label', 'label_indexer', 'prediction').show()"
   ]
  }
 ],
 "metadata": {
  "kernelspec": {
   "display_name": "Python 3 (ipykernel)",
   "language": "python",
   "name": "python3"
  },
  "language_info": {
   "codemirror_mode": {
    "name": "ipython",
    "version": 3
   },
   "file_extension": ".py",
   "mimetype": "text/x-python",
   "name": "python",
   "nbconvert_exporter": "python",
   "pygments_lexer": "ipython3",
   "version": "3.10.9"
  }
 },
 "nbformat": 4,
 "nbformat_minor": 5
}
